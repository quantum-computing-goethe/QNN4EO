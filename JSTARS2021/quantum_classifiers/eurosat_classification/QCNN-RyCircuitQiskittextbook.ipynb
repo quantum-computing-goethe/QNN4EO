{
 "cells": [
  {
   "cell_type": "code",
   "execution_count": null,
   "metadata": {
    "colab": {
     "base_uri": "https://localhost:8080/"
    },
    "executionInfo": {
     "elapsed": 26773,
     "status": "ok",
     "timestamp": 1628086581834,
     "user": {
      "displayName": "Alessandro Sebastianelli",
      "photoUrl": "https://lh3.googleusercontent.com/a-/AOh14GgVWBLvEG9yF5gq_rkIyj5MCLQv1OzgwlLWxu7e=s64",
      "userId": "16665723407518839496"
     },
     "user_tz": -120
    },
    "id": "uc2xlyNfycy6",
    "outputId": "5b90e6ef-3921-4794-cccd-cf150abcf886"
   },
   "outputs": [],
   "source": [
    "# !pip uninstall qiskit\n",
    "# !pip install qiskit==0.23.0\n",
    "# # !pip install git+https://github.com/qiskit-community/qiskit-textbook.git#subdirectory=qiskit-textbook-src\n",
    "# !pip install pylatexenc"
   ]
  },
  {
   "cell_type": "code",
   "execution_count": 1,
   "metadata": {},
   "outputs": [
    {
     "name": "stdout",
     "output_type": "stream",
     "text": [
      "<AccountProvider for IBMQ(hub='ibm-q', group='open', project='main')> ibmq_qasm_simulator\n"
     ]
    }
   ],
   "source": [
    "import qiskit\n",
    "\n",
    "# token = 'TOKEN'\n",
    "# qiskit.IBMQ.save_account(token)\n",
    "\n",
    "account = qiskit.IBMQ.load_account()\n",
    "provider = qiskit.IBMQ.get_provider(hub='ibm-q')\n",
    "backend = provider.get_backend('ibmq_qasm_simulator')\n",
    "print(provider, backend)"
   ]
  },
  {
   "cell_type": "code",
   "execution_count": 2,
   "metadata": {
    "colab": {
     "base_uri": "https://localhost:8080/"
    },
    "executionInfo": {
     "elapsed": 2264,
     "status": "ok",
     "timestamp": 1628086584093,
     "user": {
      "displayName": "Alessandro Sebastianelli",
      "photoUrl": "https://lh3.googleusercontent.com/a-/AOh14GgVWBLvEG9yF5gq_rkIyj5MCLQv1OzgwlLWxu7e=s64",
      "userId": "16665723407518839496"
     },
     "user_tz": -120
    },
    "id": "mXsPVL2Qyt4G",
    "outputId": "081e57fe-3810-4e75-f1aa-333ccbf6d4a3"
   },
   "outputs": [
    {
     "name": "stdout",
     "output_type": "stream",
     "text": [
      "Running on the CPU\n"
     ]
    }
   ],
   "source": [
    "from qiskit import execute\n",
    "from qiskit.circuit import Parameter,ControlledGate\n",
    "from qiskit import Aer\n",
    "import qiskit\n",
    "import numpy as np\n",
    "from tqdm import tqdm\n",
    "from matplotlib import pyplot as plt\n",
    "%matplotlib inline\n",
    "import torch\n",
    "from torch.autograd import Function\n",
    "import torch.optim as optim\n",
    "import torch.nn as nn\n",
    "import torch.nn.functional as F\n",
    "\n",
    "\n",
    "if torch.cuda.is_available():\n",
    "  device = torch.device(\"cuda:0\")\n",
    "  print(\"Running on the GPU\")\n",
    "else:\n",
    "  device = torch.device(\"cpu\")\n",
    "  print(\"Running on the CPU\")"
   ]
  },
  {
   "cell_type": "code",
   "execution_count": 3,
   "metadata": {
    "executionInfo": {
     "elapsed": 17,
     "status": "ok",
     "timestamp": 1628086584095,
     "user": {
      "displayName": "Alessandro Sebastianelli",
      "photoUrl": "https://lh3.googleusercontent.com/a-/AOh14GgVWBLvEG9yF5gq_rkIyj5MCLQv1OzgwlLWxu7e=s64",
      "userId": "16665723407518839496"
     },
     "user_tz": -120
    },
    "id": "GLM7EOjvzYNa"
   },
   "outputs": [],
   "source": [
    "#np.random.seed = 314\n",
    "\n",
    "NUM_QUBITS = 4\n",
    "NUM_SHOTS = 800 #3000\n",
    "SHIFT = np.pi/4\n",
    "LEARNING_RATE = 0.0002\n",
    "MOMENTUM = 0.5\n",
    "\n",
    "SIMULATOR = Aer.get_backend('qasm_simulator')"
   ]
  },
  {
   "cell_type": "code",
   "execution_count": 4,
   "metadata": {
    "colab": {
     "base_uri": "https://localhost:8080/"
    },
    "executionInfo": {
     "elapsed": 15,
     "status": "ok",
     "timestamp": 1628086584096,
     "user": {
      "displayName": "Alessandro Sebastianelli",
      "photoUrl": "https://lh3.googleusercontent.com/a-/AOh14GgVWBLvEG9yF5gq_rkIyj5MCLQv1OzgwlLWxu7e=s64",
      "userId": "16665723407518839496"
     },
     "user_tz": -120
    },
    "id": "EjFSm0lgzbW2",
    "outputId": "0e743029-2a36-4dd3-e8ce-21ceba14fa9d"
   },
   "outputs": [
    {
     "name": "stdout",
     "output_type": "stream",
     "text": [
      "['0000', '0001', '0010', '0011', '0100', '0101', '0110', '0111', '1000', '1001', '1010', '1011', '1100', '1101', '1110', '1111']\n"
     ]
    }
   ],
   "source": [
    "# create list of all possible outputs of quantum circuit (2**NUM_QUBITS possible)\n",
    "import itertools\n",
    "def create_QC_OUTPUTS():\n",
    "    measurements = list(itertools.product([0, 1], repeat=NUM_QUBITS))\n",
    "    return [''.join([str(bit) for bit in measurement]) for measurement in measurements]\n",
    "\n",
    "QC_OUTPUTS = create_QC_OUTPUTS()\n",
    "print(QC_OUTPUTS)"
   ]
  },
  {
   "cell_type": "markdown",
   "metadata": {
    "id": "5MjzswxFOf5A"
   },
   "source": [
    "# Circuit"
   ]
  },
  {
   "cell_type": "code",
   "execution_count": 5,
   "metadata": {
    "executionInfo": {
     "elapsed": 13,
     "status": "ok",
     "timestamp": 1628086584097,
     "user": {
      "displayName": "Alessandro Sebastianelli",
      "photoUrl": "https://lh3.googleusercontent.com/a-/AOh14GgVWBLvEG9yF5gq_rkIyj5MCLQv1OzgwlLWxu7e=s64",
      "userId": "16665723407518839496"
     },
     "user_tz": -120
    },
    "id": "MKJrEyNCzdX_"
   },
   "outputs": [],
   "source": [
    "class QiskitCircuit():\n",
    "    \n",
    "    def __init__(self, n_qubits, backend, shots):\n",
    "        # --- Circuit definition ---\n",
    "        self.circuit = qiskit.QuantumCircuit(n_qubits)\n",
    "        self.n_qubits = n_qubits\n",
    "        self.thetas = {k : Parameter('Theta'+str(k))for k in range(1*self.n_qubits)}\n",
    "        \n",
    "        all_qubits = [i for i in range(n_qubits)]\n",
    "        self.circuit.h(all_qubits)\n",
    "        self.circuit.barrier()\n",
    "\n",
    "        #self.circuit.h(0)\n",
    "\n",
    "        for k in range(0, 4):\n",
    "          self.circuit.ry(self.thetas[k], k)\n",
    "        \n",
    "\n",
    "        self.circuit.measure_all()\n",
    "        # ---------------------------\n",
    "        \n",
    "        self.backend = backend\n",
    "        self.shots = shots\n",
    "        \n",
    "        \n",
    "    def N_qubit_expectation_Z(self,counts, shots, nr_qubits):\n",
    "        expects = np.zeros(len(QC_OUTPUTS))\n",
    "        for k in range(len(QC_OUTPUTS)):\n",
    "            key = QC_OUTPUTS[k]\n",
    "            perc = counts.get(key, 0)/shots\n",
    "            expects[k] = perc\n",
    "        return expects\n",
    "    \n",
    "    def run(self, i):\n",
    "        params = i\n",
    "        #print('params = {}'.format(len(params)))\n",
    "        backend = Aer.get_backend('qasm_simulator')\n",
    "    \n",
    "        job_sim = execute(self.circuit,\n",
    "                              self.backend,\n",
    "                              shots=self.shots,\n",
    "                              parameter_binds = [{self.thetas[k] : params[k].item() for k in range(1*NUM_QUBITS)}])\n",
    "#         \n",
    "        result_sim = job_sim.result()\n",
    "        counts = result_sim.get_counts(self.circuit)\n",
    "        return self.N_qubit_expectation_Z(counts, self.shots, NUM_QUBITS)"
   ]
  },
  {
   "cell_type": "code",
   "execution_count": null,
   "metadata": {},
   "outputs": [],
   "source": [
    "circuit.run()"
   ]
  },
  {
   "cell_type": "code",
   "execution_count": 6,
   "metadata": {
    "colab": {
     "base_uri": "https://localhost:8080/",
     "height": 276
    },
    "executionInfo": {
     "elapsed": 620,
     "status": "ok",
     "timestamp": 1628086584706,
     "user": {
      "displayName": "Alessandro Sebastianelli",
      "photoUrl": "https://lh3.googleusercontent.com/a-/AOh14GgVWBLvEG9yF5gq_rkIyj5MCLQv1OzgwlLWxu7e=s64",
      "userId": "16665723407518839496"
     },
     "user_tz": -120
    },
    "id": "Afi3vEahKBVU",
    "outputId": "c9121532-34ff-4f12-f8c4-d912e01ac664"
   },
   "outputs": [
    {
     "data": {
      "image/png": "[encoded data removed]",
      "text/plain": [
       "<Figure size 598.479x325.08 with 1 Axes>"
      ]
     },
     "execution_count": 6,
     "metadata": {},
     "output_type": "execute_result"
    }
   ],
   "source": [
    "circuit = QiskitCircuit(NUM_QUBITS, SIMULATOR, NUM_SHOTS)\n",
    "#print('Expected value for rotation [pi/4]: {}'.format(circuit.run(torch.Tensor([np.pi/4]*NUM_QUBITS))))\n",
    "circuit.circuit.draw(output='mpl')#, filename='Figures/{}-qubit circuit ryN.jpg'.format(NUM_QUBITS)"
   ]
  },
  {
   "cell_type": "code",
   "execution_count": 7,
   "metadata": {
    "executionInfo": {
     "elapsed": 11,
     "status": "ok",
     "timestamp": 1628086584707,
     "user": {
      "displayName": "Alessandro Sebastianelli",
      "photoUrl": "https://lh3.googleusercontent.com/a-/AOh14GgVWBLvEG9yF5gq_rkIyj5MCLQv1OzgwlLWxu7e=s64",
      "userId": "16665723407518839496"
     },
     "user_tz": -120
    },
    "id": "_zDbKVw5zhWo"
   },
   "outputs": [],
   "source": [
    "class TorchCircuit(Function):    \n",
    "\n",
    "    @staticmethod\n",
    "    def forward(ctx, i):\n",
    "        if not hasattr(ctx, 'QiskitCirc'):\n",
    "            ctx.QiskitCirc = QiskitCircuit(NUM_QUBITS, SIMULATOR, shots=NUM_SHOTS)\n",
    "            \n",
    "        exp_value = ctx.QiskitCirc.run(i)\n",
    "        \n",
    "        result = torch.tensor([exp_value])\n",
    "  \n",
    "        ctx.save_for_backward(result, i)\n",
    "        \n",
    "        return result\n",
    "    \n",
    "    @staticmethod\n",
    "    def backward(ctx, grad_output):\n",
    "        \n",
    "        forward_tensor, i = ctx.saved_tensors\n",
    "#         print('forward_tensor = {}'.format(forward_tensor))\n",
    "        input_numbers = i\n",
    "#         print('input_numbers = {}'.format(input_numbers))\n",
    "        gradients = torch.Tensor()\n",
    "        \n",
    "        for k in range(1*NUM_QUBITS):\n",
    "            shift_right = input_numbers.detach().clone()\n",
    "            shift_right[k] = shift_right[k] + SHIFT\n",
    "            shift_left = input_numbers.detach().clone()\n",
    "            shift_left[k] = shift_left[k] - SHIFT\n",
    "            \n",
    "#             print('shift_right = {}, shift_left = {}'.format(shift_right, shift_left))\n",
    "            \n",
    "            expectation_right = ctx.QiskitCirc.run(shift_right)\n",
    "            expectation_left  = ctx.QiskitCirc.run(shift_left)\n",
    "#             print('expectation_right = {}, \\nexpectation_left = {}'.format(expectation_right, expectation_left))\n",
    "            \n",
    "            gradient = torch.tensor([expectation_right]) - torch.tensor([expectation_left])\n",
    "            # rescale gradient\n",
    "#             gradient = gradient / torch.norm(gradient)\n",
    "#             print('gradient for k={}: {}'.format(k, gradient))\n",
    "            gradients = torch.cat((gradients, gradient.float()))\n",
    "            \n",
    "        result = torch.Tensor(gradients)\n",
    "#         print('gradients = {}'.format(result))\n",
    "#         print('grad_output = {}'.format(grad_output))\n",
    "\n",
    "        return (result.float() * grad_output.float()).T"
   ]
  },
  {
   "cell_type": "code",
   "execution_count": 10,
   "metadata": {
    "executionInfo": {
     "elapsed": 10,
     "status": "ok",
     "timestamp": 1628086584708,
     "user": {
      "displayName": "Alessandro Sebastianelli",
      "photoUrl": "https://lh3.googleusercontent.com/a-/AOh14GgVWBLvEG9yF5gq_rkIyj5MCLQv1OzgwlLWxu7e=s64",
      "userId": "16665723407518839496"
     },
     "user_tz": -120
    },
    "id": "cjTZRiru0eKr"
   },
   "outputs": [],
   "source": [
    "# import sys\n",
    "# sys.path.append('/content/drive/MyDrive/QAI4EO/')"
   ]
  },
  {
   "cell_type": "code",
   "execution_count": 8,
   "metadata": {
    "executionInfo": {
     "elapsed": 939,
     "status": "ok",
     "timestamp": 1628086585639,
     "user": {
      "displayName": "Alessandro Sebastianelli",
      "photoUrl": "https://lh3.googleusercontent.com/a-/AOh14GgVWBLvEG9yF5gq_rkIyj5MCLQv1OzgwlLWxu7e=s64",
      "userId": "16665723407518839496"
     },
     "user_tz": -120
    },
    "id": "An1kDAd-0f1q"
   },
   "outputs": [],
   "source": [
    "from DatasetHandler import DatasetHandler\n",
    "# dataset_root = '/content/drive/MyDrive/QAI4EO/datasets/EuroSAT/EuroSAT'\n",
    "dataset_root = \"/workspaces/QNN4EO/datasets/EuroSAT/2750\"\n",
    "handler = DatasetHandler(dataset_root)"
   ]
  },
  {
   "cell_type": "code",
   "execution_count": 9,
   "metadata": {
    "colab": {
     "base_uri": "https://localhost:8080/"
    },
    "executionInfo": {
     "elapsed": 11,
     "status": "ok",
     "timestamp": 1628086585643,
     "user": {
      "displayName": "Alessandro Sebastianelli",
      "photoUrl": "https://lh3.googleusercontent.com/a-/AOh14GgVWBLvEG9yF5gq_rkIyj5MCLQv1OzgwlLWxu7e=s64",
      "userId": "16665723407518839496"
     },
     "user_tz": -120
    },
    "id": "YcZfoXab0hDP",
    "outputId": "b9af6b9f-3efa-468d-eee8-4307e5e8820e"
   },
   "outputs": [
    {
     "data": {
      "text/plain": [
       "['AnnualCrop',\n",
       " 'Forest',\n",
       " 'HerbaceousVegetation',\n",
       " 'Highway',\n",
       " 'Industrial',\n",
       " 'Pasture',\n",
       " 'PermanentCrop',\n",
       " 'Residential',\n",
       " 'River',\n",
       " 'SeaLake']"
      ]
     },
     "execution_count": 9,
     "metadata": {},
     "output_type": "execute_result"
    }
   ],
   "source": [
    "classes = []\n",
    "for i, c in enumerate(handler.classes):\n",
    "  cl = c.split('/')[-1]\n",
    "  classes.append(cl)\n",
    "classes.sort()\n",
    "classes"
   ]
  },
  {
   "cell_type": "code",
   "execution_count": 10,
   "metadata": {
    "colab": {
     "base_uri": "https://localhost:8080/"
    },
    "executionInfo": {
     "elapsed": 47285,
     "status": "ok",
     "timestamp": 1628086632922,
     "user": {
      "displayName": "Alessandro Sebastianelli",
      "photoUrl": "https://lh3.googleusercontent.com/a-/AOh14GgVWBLvEG9yF5gq_rkIyj5MCLQv1OzgwlLWxu7e=s64",
      "userId": "16665723407518839496"
     },
     "user_tz": -120
    },
    "id": "tTMKedxr0tCP",
    "outputId": "8c5b2714-1a5d-432a-a2e0-da51e4a79e8d"
   },
   "outputs": [
    {
     "name": "stdout",
     "output_type": "stream",
     "text": [
      "Dataset images: 27000 Dataset labels: 27000\n",
      "Dataset sample -> /workspaces/QNN4EO/datasets/EuroSAT/2750/Pasture/Pasture_264.jpg 5\n"
     ]
    }
   ],
   "source": [
    "imgs_path, imgs_label = handler.load_paths_labels(dataset_root, classes=classes)\n",
    "print('Dataset images:', len(imgs_path), 'Dataset labels:', len(imgs_label))\n",
    "print('Dataset sample ->', imgs_path[0], imgs_label[0])"
   ]
  },
  {
   "cell_type": "code",
   "execution_count": 11,
   "metadata": {
    "colab": {
     "base_uri": "https://localhost:8080/"
    },
    "executionInfo": {
     "elapsed": 19,
     "status": "ok",
     "timestamp": 1628086632924,
     "user": {
      "displayName": "Alessandro Sebastianelli",
      "photoUrl": "https://lh3.googleusercontent.com/a-/AOh14GgVWBLvEG9yF5gq_rkIyj5MCLQv1OzgwlLWxu7e=s64",
      "userId": "16665723407518839496"
     },
     "user_tz": -120
    },
    "id": "Ku3ztjPT0urb",
    "outputId": "0f49b6b0-6c07-4e13-9f67-80772ffc0fd1"
   },
   "outputs": [
    {
     "name": "stdout",
     "output_type": "stream",
     "text": [
      "X_train shape: (21600,) Y_train shape: (21600,)\n",
      "  X_val shape:  (5400,)   Y_val shape:  (5400,)\n"
     ]
    }
   ],
   "source": [
    "train_imgs, train_labels, val_images, val_labels = handler.train_validation_split(imgs_path, imgs_label, split_factor=0.2)\n",
    "print('X_train shape:', train_imgs.shape, 'Y_train shape:', train_labels.shape)\n",
    "print('  X_val shape: ', val_images.shape, '  Y_val shape: ', val_labels.shape)"
   ]
  },
  {
   "cell_type": "code",
   "execution_count": 12,
   "metadata": {
    "executionInfo": {
     "elapsed": 17,
     "status": "ok",
     "timestamp": 1628086632926,
     "user": {
      "displayName": "Alessandro Sebastianelli",
      "photoUrl": "https://lh3.googleusercontent.com/a-/AOh14GgVWBLvEG9yF5gq_rkIyj5MCLQv1OzgwlLWxu7e=s64",
      "userId": "16665723407518839496"
     },
     "user_tz": -120
    },
    "id": "InesYmyx0wgc"
   },
   "outputs": [],
   "source": [
    "class Net(nn.Module):\n",
    "    def __init__(self):\n",
    "        super(Net, self).__init__()\n",
    "        self.conv1 = nn.Conv2d(3, 16, kernel_size=3)\n",
    "        self.conv2 = nn.Conv2d(16, 32, kernel_size=3)\n",
    "        self.conv3 = nn.Conv2d(32, 64, kernel_size=3)\n",
    "\n",
    "        #self.conv2_drop = nn.Dropout2d()\n",
    "\n",
    "        self.fc1 = nn.Linear(2304, 120)\n",
    "        self.fc2 = nn.Linear(120, 84)\n",
    "        self.fc3 = nn.Linear(84, 42)\n",
    "\n",
    "        self.fc4 = nn.Linear(2304, 1*NUM_QUBITS)\n",
    "        \n",
    "        self.qc = TorchCircuit.apply\n",
    "\n",
    "        self.fc5 = nn.Linear(16, 10)\n",
    "\n",
    "    def forward(self, x):\n",
    "        x = F.relu(F.max_pool2d(self.conv1(x), 2))\n",
    "        x = F.relu(F.max_pool2d(self.conv2(x), 2))\n",
    "        x = F.relu(F.max_pool2d(self.conv3(x), 2))\n",
    "\n",
    "        x = x.view(-1, 2304)\n",
    "        #x = F.relu(self.fc1(x))\n",
    "        #x = F.dropout(x, training=self.training)\n",
    "        #x = F.relu(self.fc2(x))\n",
    "\n",
    "        #x = F.relu(self.fc3(x))\n",
    "\n",
    "        x = self.fc4(x)\n",
    "        x = np.pi*torch.tanh(x)\n",
    "        \n",
    "        x = self.qc(x[0]) # QUANTUM LAYER\n",
    "        \n",
    "        x = F.relu(x)\n",
    "        #print('output of QC = {}'.format(x))\n",
    "        \n",
    "#         # softmax rather than sigmoid\n",
    "        x = self.fc5(x.float())\n",
    "        #print('output of Linear(1, 2): {}'.format(x))\n",
    "        x = F.softmax(x, 1)\n",
    "\n",
    "        #x = torch.sigmoid(x)\n",
    "        #x = torch.cat((x, 1-x), -1)\n",
    "        return x\n",
    "    \n",
    "    \n",
    "    def predict(self, x):\n",
    "        # apply softmax\n",
    "        pred = self.forward(x)\n",
    "#         print(pred)\n",
    "        ans = torch.argmax(pred[0]).item()\n",
    "        return torch.tensor(ans)\n",
    "    \n",
    "network = Net()#.to(device)\n",
    "optimizer = optim.Adam(network.parameters(), lr=0.0002)"
   ]
  },
  {
   "cell_type": "code",
   "execution_count": 13,
   "metadata": {
    "executionInfo": {
     "elapsed": 17,
     "status": "ok",
     "timestamp": 1628086632928,
     "user": {
      "displayName": "Alessandro Sebastianelli",
      "photoUrl": "https://lh3.googleusercontent.com/a-/AOh14GgVWBLvEG9yF5gq_rkIyj5MCLQv1OzgwlLWxu7e=s64",
      "userId": "16665723407518839496"
     },
     "user_tz": -120
    },
    "id": "8oMzCmz11PVo"
   },
   "outputs": [],
   "source": [
    "from sklearn.metrics import confusion_matrix, ConfusionMatrixDisplay, classification_report\n",
    "\n",
    "#from torchsummary import summary\n",
    "#summary(network, (3, 64, 64))"
   ]
  },
  {
   "cell_type": "code",
   "execution_count": 14,
   "metadata": {
    "executionInfo": {
     "elapsed": 16,
     "status": "ok",
     "timestamp": 1628086632929,
     "user": {
      "displayName": "Alessandro Sebastianelli",
      "photoUrl": "https://lh3.googleusercontent.com/a-/AOh14GgVWBLvEG9yF5gq_rkIyj5MCLQv1OzgwlLWxu7e=s64",
      "userId": "16665723407518839496"
     },
     "user_tz": -120
    },
    "id": "hxkBEGs401rE"
   },
   "outputs": [],
   "source": [
    "train_loader = iter(handler.qcnn_data_loader(train_imgs, train_labels, batch_size = 1, img_shape = (64,64,3)))\n",
    "test_loader = iter(handler.qcnn_data_loader(val_images, val_labels, batch_size = 1, img_shape = (64,64,3)))"
   ]
  },
  {
   "cell_type": "code",
   "execution_count": 43,
   "metadata": {
    "executionInfo": {
     "elapsed": 723,
     "status": "ok",
     "timestamp": 1628086633638,
     "user": {
      "displayName": "Alessandro Sebastianelli",
      "photoUrl": "https://lh3.googleusercontent.com/a-/AOh14GgVWBLvEG9yF5gq_rkIyj5MCLQv1OzgwlLWxu7e=s64",
      "userId": "16665723407518839496"
     },
     "user_tz": -120
    },
    "id": "IhLeUsW1_WpK"
   },
   "outputs": [],
   "source": [
    "checkpoint = torch.load('saved_models/model-rytextbook.pt')\n",
    "checkpoint = torch.load('saved_models/model-real-amp-2.pt')\n",
    "checkpoint = torch.load('saved_models/model-bell.pt')\n",
    "checkpoint = torch.load('saved_models/model-bell-2.pt')\n",
    "\n",
    "network.load_state_dict(checkpoint['model_state_dict'])\n",
    "optimizer.load_state_dict(checkpoint['optimizer_state_dict'])\n",
    "epoch = checkpoint['epoch']\n",
    "loss = checkpoint['loss']"
   ]
  },
  {
   "cell_type": "code",
   "execution_count": 44,
   "metadata": {
    "colab": {
     "base_uri": "https://localhost:8080/",
     "height": 1000
    },
    "executionInfo": {
     "elapsed": 4185208,
     "status": "error",
     "timestamp": 1628111957678,
     "user": {
      "displayName": "Alessandro Sebastianelli",
      "photoUrl": "https://lh3.googleusercontent.com/a-/AOh14GgVWBLvEG9yF5gq_rkIyj5MCLQv1OzgwlLWxu7e=s64",
      "userId": "16665723407518839496"
     },
     "user_tz": -120
    },
    "id": "nUoZidbl05zA",
    "outputId": "06fd8320-dff7-4a2d-fd94-cb4a41b8f161"
   },
   "outputs": [
    {
     "name": "stderr",
     "output_type": "stream",
     "text": [
      "Simulation failed and returned the following error message:\n",
      "ERROR: Failed to load qobj: [json.exception.type_error.302] type must be array, but is number\n"
     ]
    },
    {
     "ename": "QiskitError",
     "evalue": "'Data for experiment \"circuit-282\" could not be found.'",
     "output_type": "error",
     "traceback": [
      "\u001b[0;31m---------------------------------------------------------------------------\u001b[0m",
      "\u001b[0;31mQiskitError\u001b[0m                               Traceback (most recent call last)",
      "\u001b[1;32m/workspaces/QNN4EO/JSTARS2021/quantum_classifiers/eurosat_classification/QCNN-RyCircuitQiskittextbook.ipynb Zelle 20\u001b[0m in \u001b[0;36m<cell line: 7>\u001b[0;34m()\u001b[0m\n\u001b[1;32m     <a href='vscode-notebook-cell://codespaces%2Bklezm-quantum-computing-goethe-qnn4eo-4wgvwg9w25q4x/workspaces/QNN4EO/JSTARS2021/quantum_classifiers/eurosat_classification/QCNN-RyCircuitQiskittextbook.ipynb#X25sdnNjb2RlLXJlbW90ZQ%3D%3D?line=13'>14</a>\u001b[0m optimizer\u001b[39m.\u001b[39mzero_grad()        \n\u001b[1;32m     <a href='vscode-notebook-cell://codespaces%2Bklezm-quantum-computing-goethe-qnn4eo-4wgvwg9w25q4x/workspaces/QNN4EO/JSTARS2021/quantum_classifiers/eurosat_classification/QCNN-RyCircuitQiskittextbook.ipynb#X25sdnNjb2RlLXJlbW90ZQ%3D%3D?line=14'>15</a>\u001b[0m \u001b[39m# Forward pass\u001b[39;00m\n\u001b[0;32m---> <a href='vscode-notebook-cell://codespaces%2Bklezm-quantum-computing-goethe-qnn4eo-4wgvwg9w25q4x/workspaces/QNN4EO/JSTARS2021/quantum_classifiers/eurosat_classification/QCNN-RyCircuitQiskittextbook.ipynb#X25sdnNjb2RlLXJlbW90ZQ%3D%3D?line=15'>16</a>\u001b[0m output \u001b[39m=\u001b[39m network(data)\n\u001b[1;32m     <a href='vscode-notebook-cell://codespaces%2Bklezm-quantum-computing-goethe-qnn4eo-4wgvwg9w25q4x/workspaces/QNN4EO/JSTARS2021/quantum_classifiers/eurosat_classification/QCNN-RyCircuitQiskittextbook.ipynb#X25sdnNjb2RlLXJlbW90ZQ%3D%3D?line=16'>17</a>\u001b[0m \u001b[39m# Calculating loss\u001b[39;00m\n\u001b[1;32m     <a href='vscode-notebook-cell://codespaces%2Bklezm-quantum-computing-goethe-qnn4eo-4wgvwg9w25q4x/workspaces/QNN4EO/JSTARS2021/quantum_classifiers/eurosat_classification/QCNN-RyCircuitQiskittextbook.ipynb#X25sdnNjb2RlLXJlbW90ZQ%3D%3D?line=17'>18</a>\u001b[0m loss \u001b[39m=\u001b[39m loss_func(output, target)\n",
      "File \u001b[0;32m/usr/local/lib/python3.10/site-packages/torch/nn/modules/module.py:1130\u001b[0m, in \u001b[0;36mModule._call_impl\u001b[0;34m(self, *input, **kwargs)\u001b[0m\n\u001b[1;32m   1126\u001b[0m \u001b[39m# If we don't have any hooks, we want to skip the rest of the logic in\u001b[39;00m\n\u001b[1;32m   1127\u001b[0m \u001b[39m# this function, and just call forward.\u001b[39;00m\n\u001b[1;32m   1128\u001b[0m \u001b[39mif\u001b[39;00m \u001b[39mnot\u001b[39;00m (\u001b[39mself\u001b[39m\u001b[39m.\u001b[39m_backward_hooks \u001b[39mor\u001b[39;00m \u001b[39mself\u001b[39m\u001b[39m.\u001b[39m_forward_hooks \u001b[39mor\u001b[39;00m \u001b[39mself\u001b[39m\u001b[39m.\u001b[39m_forward_pre_hooks \u001b[39mor\u001b[39;00m _global_backward_hooks\n\u001b[1;32m   1129\u001b[0m         \u001b[39mor\u001b[39;00m _global_forward_hooks \u001b[39mor\u001b[39;00m _global_forward_pre_hooks):\n\u001b[0;32m-> 1130\u001b[0m     \u001b[39mreturn\u001b[39;00m forward_call(\u001b[39m*\u001b[39;49m\u001b[39minput\u001b[39;49m, \u001b[39m*\u001b[39;49m\u001b[39m*\u001b[39;49mkwargs)\n\u001b[1;32m   1131\u001b[0m \u001b[39m# Do not call functions when jit is used\u001b[39;00m\n\u001b[1;32m   1132\u001b[0m full_backward_hooks, non_full_backward_hooks \u001b[39m=\u001b[39m [], []\n",
      "\u001b[1;32m/workspaces/QNN4EO/JSTARS2021/quantum_classifiers/eurosat_classification/QCNN-RyCircuitQiskittextbook.ipynb Zelle 20\u001b[0m in \u001b[0;36mNet.forward\u001b[0;34m(self, x)\u001b[0m\n\u001b[1;32m     <a href='vscode-notebook-cell://codespaces%2Bklezm-quantum-computing-goethe-qnn4eo-4wgvwg9w25q4x/workspaces/QNN4EO/JSTARS2021/quantum_classifiers/eurosat_classification/QCNN-RyCircuitQiskittextbook.ipynb#X25sdnNjb2RlLXJlbW90ZQ%3D%3D?line=31'>32</a>\u001b[0m         x \u001b[39m=\u001b[39m \u001b[39mself\u001b[39m\u001b[39m.\u001b[39mfc4(x)\n\u001b[1;32m     <a href='vscode-notebook-cell://codespaces%2Bklezm-quantum-computing-goethe-qnn4eo-4wgvwg9w25q4x/workspaces/QNN4EO/JSTARS2021/quantum_classifiers/eurosat_classification/QCNN-RyCircuitQiskittextbook.ipynb#X25sdnNjb2RlLXJlbW90ZQ%3D%3D?line=32'>33</a>\u001b[0m         x \u001b[39m=\u001b[39m np\u001b[39m.\u001b[39mpi\u001b[39m*\u001b[39mtorch\u001b[39m.\u001b[39mtanh(x)\n\u001b[0;32m---> <a href='vscode-notebook-cell://codespaces%2Bklezm-quantum-computing-goethe-qnn4eo-4wgvwg9w25q4x/workspaces/QNN4EO/JSTARS2021/quantum_classifiers/eurosat_classification/QCNN-RyCircuitQiskittextbook.ipynb#X25sdnNjb2RlLXJlbW90ZQ%3D%3D?line=34'>35</a>\u001b[0m         x \u001b[39m=\u001b[39m \u001b[39mself\u001b[39;49m\u001b[39m.\u001b[39;49mqc(x[\u001b[39m0\u001b[39;49m]) \u001b[39m# QUANTUM LAYER\u001b[39;00m\n\u001b[1;32m     <a href='vscode-notebook-cell://codespaces%2Bklezm-quantum-computing-goethe-qnn4eo-4wgvwg9w25q4x/workspaces/QNN4EO/JSTARS2021/quantum_classifiers/eurosat_classification/QCNN-RyCircuitQiskittextbook.ipynb#X25sdnNjb2RlLXJlbW90ZQ%3D%3D?line=36'>37</a>\u001b[0m         x \u001b[39m=\u001b[39m F\u001b[39m.\u001b[39mrelu(x)\n\u001b[1;32m     <a href='vscode-notebook-cell://codespaces%2Bklezm-quantum-computing-goethe-qnn4eo-4wgvwg9w25q4x/workspaces/QNN4EO/JSTARS2021/quantum_classifiers/eurosat_classification/QCNN-RyCircuitQiskittextbook.ipynb#X25sdnNjb2RlLXJlbW90ZQ%3D%3D?line=37'>38</a>\u001b[0m         \u001b[39m#print('output of QC = {}'.format(x))\u001b[39;00m\n\u001b[1;32m     <a href='vscode-notebook-cell://codespaces%2Bklezm-quantum-computing-goethe-qnn4eo-4wgvwg9w25q4x/workspaces/QNN4EO/JSTARS2021/quantum_classifiers/eurosat_classification/QCNN-RyCircuitQiskittextbook.ipynb#X25sdnNjb2RlLXJlbW90ZQ%3D%3D?line=38'>39</a>\u001b[0m         \n\u001b[1;32m     <a href='vscode-notebook-cell://codespaces%2Bklezm-quantum-computing-goethe-qnn4eo-4wgvwg9w25q4x/workspaces/QNN4EO/JSTARS2021/quantum_classifiers/eurosat_classification/QCNN-RyCircuitQiskittextbook.ipynb#X25sdnNjb2RlLXJlbW90ZQ%3D%3D?line=39'>40</a>\u001b[0m \u001b[39m#         # softmax rather than sigmoid\u001b[39;00m\n",
      "\u001b[1;32m/workspaces/QNN4EO/JSTARS2021/quantum_classifiers/eurosat_classification/QCNN-RyCircuitQiskittextbook.ipynb Zelle 20\u001b[0m in \u001b[0;36mTorchCircuit.forward\u001b[0;34m(ctx, i)\u001b[0m\n\u001b[1;32m      <a href='vscode-notebook-cell://codespaces%2Bklezm-quantum-computing-goethe-qnn4eo-4wgvwg9w25q4x/workspaces/QNN4EO/JSTARS2021/quantum_classifiers/eurosat_classification/QCNN-RyCircuitQiskittextbook.ipynb#X25sdnNjb2RlLXJlbW90ZQ%3D%3D?line=4'>5</a>\u001b[0m \u001b[39mif\u001b[39;00m \u001b[39mnot\u001b[39;00m \u001b[39mhasattr\u001b[39m(ctx, \u001b[39m'\u001b[39m\u001b[39mQiskitCirc\u001b[39m\u001b[39m'\u001b[39m):\n\u001b[1;32m      <a href='vscode-notebook-cell://codespaces%2Bklezm-quantum-computing-goethe-qnn4eo-4wgvwg9w25q4x/workspaces/QNN4EO/JSTARS2021/quantum_classifiers/eurosat_classification/QCNN-RyCircuitQiskittextbook.ipynb#X25sdnNjb2RlLXJlbW90ZQ%3D%3D?line=5'>6</a>\u001b[0m     ctx\u001b[39m.\u001b[39mQiskitCirc \u001b[39m=\u001b[39m QiskitCircuit(NUM_QUBITS, SIMULATOR, shots\u001b[39m=\u001b[39mNUM_SHOTS)\n\u001b[0;32m----> <a href='vscode-notebook-cell://codespaces%2Bklezm-quantum-computing-goethe-qnn4eo-4wgvwg9w25q4x/workspaces/QNN4EO/JSTARS2021/quantum_classifiers/eurosat_classification/QCNN-RyCircuitQiskittextbook.ipynb#X25sdnNjb2RlLXJlbW90ZQ%3D%3D?line=7'>8</a>\u001b[0m exp_value \u001b[39m=\u001b[39m ctx\u001b[39m.\u001b[39;49mQiskitCirc\u001b[39m.\u001b[39;49mrun(i)\n\u001b[1;32m     <a href='vscode-notebook-cell://codespaces%2Bklezm-quantum-computing-goethe-qnn4eo-4wgvwg9w25q4x/workspaces/QNN4EO/JSTARS2021/quantum_classifiers/eurosat_classification/QCNN-RyCircuitQiskittextbook.ipynb#X25sdnNjb2RlLXJlbW90ZQ%3D%3D?line=9'>10</a>\u001b[0m result \u001b[39m=\u001b[39m torch\u001b[39m.\u001b[39mtensor([exp_value])\n\u001b[1;32m     <a href='vscode-notebook-cell://codespaces%2Bklezm-quantum-computing-goethe-qnn4eo-4wgvwg9w25q4x/workspaces/QNN4EO/JSTARS2021/quantum_classifiers/eurosat_classification/QCNN-RyCircuitQiskittextbook.ipynb#X25sdnNjb2RlLXJlbW90ZQ%3D%3D?line=11'>12</a>\u001b[0m ctx\u001b[39m.\u001b[39msave_for_backward(result, i)\n",
      "\u001b[1;32m/workspaces/QNN4EO/JSTARS2021/quantum_classifiers/eurosat_classification/QCNN-RyCircuitQiskittextbook.ipynb Zelle 20\u001b[0m in \u001b[0;36mQiskitCircuit.run\u001b[0;34m(self, i)\u001b[0m\n\u001b[1;32m     <a href='vscode-notebook-cell://codespaces%2Bklezm-quantum-computing-goethe-qnn4eo-4wgvwg9w25q4x/workspaces/QNN4EO/JSTARS2021/quantum_classifiers/eurosat_classification/QCNN-RyCircuitQiskittextbook.ipynb#X25sdnNjb2RlLXJlbW90ZQ%3D%3D?line=42'>43</a>\u001b[0m \u001b[39m#         \u001b[39;00m\n\u001b[1;32m     <a href='vscode-notebook-cell://codespaces%2Bklezm-quantum-computing-goethe-qnn4eo-4wgvwg9w25q4x/workspaces/QNN4EO/JSTARS2021/quantum_classifiers/eurosat_classification/QCNN-RyCircuitQiskittextbook.ipynb#X25sdnNjb2RlLXJlbW90ZQ%3D%3D?line=43'>44</a>\u001b[0m         result_sim \u001b[39m=\u001b[39m job_sim\u001b[39m.\u001b[39mresult()\n\u001b[0;32m---> <a href='vscode-notebook-cell://codespaces%2Bklezm-quantum-computing-goethe-qnn4eo-4wgvwg9w25q4x/workspaces/QNN4EO/JSTARS2021/quantum_classifiers/eurosat_classification/QCNN-RyCircuitQiskittextbook.ipynb#X25sdnNjb2RlLXJlbW90ZQ%3D%3D?line=44'>45</a>\u001b[0m         counts \u001b[39m=\u001b[39m result_sim\u001b[39m.\u001b[39;49mget_counts(\u001b[39mself\u001b[39;49m\u001b[39m.\u001b[39;49mcircuit)\n\u001b[1;32m     <a href='vscode-notebook-cell://codespaces%2Bklezm-quantum-computing-goethe-qnn4eo-4wgvwg9w25q4x/workspaces/QNN4EO/JSTARS2021/quantum_classifiers/eurosat_classification/QCNN-RyCircuitQiskittextbook.ipynb#X25sdnNjb2RlLXJlbW90ZQ%3D%3D?line=45'>46</a>\u001b[0m         \u001b[39mreturn\u001b[39;00m \u001b[39mself\u001b[39m\u001b[39m.\u001b[39mN_qubit_expectation_Z(counts, \u001b[39mself\u001b[39m\u001b[39m.\u001b[39mshots, NUM_QUBITS)\n",
      "File \u001b[0;32m/usr/local/lib/python3.10/site-packages/qiskit/result/result.py:269\u001b[0m, in \u001b[0;36mResult.get_counts\u001b[0;34m(self, experiment)\u001b[0m\n\u001b[1;32m    267\u001b[0m dict_list \u001b[39m=\u001b[39m []\n\u001b[1;32m    268\u001b[0m \u001b[39mfor\u001b[39;00m key \u001b[39min\u001b[39;00m exp_keys:\n\u001b[0;32m--> 269\u001b[0m     exp \u001b[39m=\u001b[39m \u001b[39mself\u001b[39;49m\u001b[39m.\u001b[39;49m_get_experiment(key)\n\u001b[1;32m    270\u001b[0m     \u001b[39mtry\u001b[39;00m:\n\u001b[1;32m    271\u001b[0m         header \u001b[39m=\u001b[39m exp\u001b[39m.\u001b[39mheader\u001b[39m.\u001b[39mto_dict()\n",
      "File \u001b[0;32m/usr/local/lib/python3.10/site-packages/qiskit/result/result.py:380\u001b[0m, in \u001b[0;36mResult._get_experiment\u001b[0;34m(self, key)\u001b[0m\n\u001b[1;32m    373\u001b[0m exp \u001b[39m=\u001b[39m [\n\u001b[1;32m    374\u001b[0m     result\n\u001b[1;32m    375\u001b[0m     \u001b[39mfor\u001b[39;00m result \u001b[39min\u001b[39;00m \u001b[39mself\u001b[39m\u001b[39m.\u001b[39mresults\n\u001b[1;32m    376\u001b[0m     \u001b[39mif\u001b[39;00m \u001b[39mgetattr\u001b[39m(\u001b[39mgetattr\u001b[39m(result, \u001b[39m\"\u001b[39m\u001b[39mheader\u001b[39m\u001b[39m\"\u001b[39m, \u001b[39mNone\u001b[39;00m), \u001b[39m\"\u001b[39m\u001b[39mname\u001b[39m\u001b[39m\"\u001b[39m, \u001b[39m\"\u001b[39m\u001b[39m\"\u001b[39m) \u001b[39m==\u001b[39m key\n\u001b[1;32m    377\u001b[0m ]\n\u001b[1;32m    379\u001b[0m \u001b[39mif\u001b[39;00m \u001b[39mlen\u001b[39m(exp) \u001b[39m==\u001b[39m \u001b[39m0\u001b[39m:\n\u001b[0;32m--> 380\u001b[0m     \u001b[39mraise\u001b[39;00m QiskitError(\u001b[39m'\u001b[39m\u001b[39mData for experiment \u001b[39m\u001b[39m\"\u001b[39m\u001b[39m%s\u001b[39;00m\u001b[39m\"\u001b[39m\u001b[39m could not be found.\u001b[39m\u001b[39m'\u001b[39m \u001b[39m%\u001b[39m key)\n\u001b[1;32m    381\u001b[0m \u001b[39mif\u001b[39;00m \u001b[39mlen\u001b[39m(exp) \u001b[39m==\u001b[39m \u001b[39m1\u001b[39m:\n\u001b[1;32m    382\u001b[0m     exp \u001b[39m=\u001b[39m exp[\u001b[39m0\u001b[39m]\n",
      "\u001b[0;31mQiskitError\u001b[0m: 'Data for experiment \"circuit-282\" could not be found.'"
     ]
    }
   ],
   "source": [
    "train_loss_list = []\n",
    "val_loss_list = []\n",
    "epochs = 25\n",
    "\n",
    "loss_func = nn.CrossEntropyLoss()\n",
    "\n",
    "for epoch in range(epochs):\n",
    "  train_loader = iter(handler.qcnn_data_loader(train_imgs, train_labels, batch_size = 1, img_shape = (64,64,3)))\n",
    "  test_loader = iter(handler.qcnn_data_loader(val_images, val_labels, batch_size = 1, img_shape = (64,64,3)))\n",
    "  total_loss = []\n",
    "  for batch_idx in range(len(train_labels)):\n",
    "    data, target = next(train_loader) \n",
    "    # print(batch_idx)\n",
    "    optimizer.zero_grad()        \n",
    "    # Forward pass\n",
    "    output = network(data)\n",
    "    # Calculating loss\n",
    "    loss = loss_func(output, target)\n",
    "    # Backward pass\n",
    "    loss.backward()\n",
    "    # Optimize the weights\n",
    "    optimizer.step()\n",
    "    \n",
    "    total_loss.append(loss.item())\n",
    "    \n",
    "    print('\\r Epoch %d ~ Batch %d (%d) ~ Loss %f ' % (epoch, batch_idx, len(train_imgs)-1, loss.item()), end='\\t\\t')\n",
    "    \n",
    "  \n",
    "  with torch.no_grad():\n",
    "    val_loss = []\n",
    "    targets = []\n",
    "    predictions = []\n",
    "    for batch_idx in range(len(val_images)):\n",
    "      data, target = next(test_loader)\n",
    "      output = network(data)\n",
    "      loss = loss_func(output, target)\n",
    "      val_loss.append(loss.item())\n",
    "\n",
    "      targets.append(target.item())\n",
    "      \n",
    "      predictions.append(network.predict(data).item())\n",
    "  \n",
    "      \n",
    "  train_loss_list.append(sum(total_loss)/len(total_loss))\n",
    "  val_loss_list.append(sum(val_loss)/len(val_loss))\n",
    "  \n",
    "  print('Training [{:.0f}%]\\t Training Loss: {:.4f} Validation Loss: {:.4f}'.format(\n",
    "      100. * (epoch + 1) / epochs, train_loss_list[-1], val_loss_list[-1]))\n",
    "  \n",
    "  if epoch % 3 == 1:\n",
    "    print(confusion_matrix(targets, predictions,normalize='true'))\n",
    "    print(classification_report(targets, predictions, target_names=classes, digits=4))\n",
    "    torch.save({\n",
    "            'epoch': epoch,\n",
    "            'model_state_dict': network.state_dict(),\n",
    "            'optimizer_state_dict': optimizer.state_dict(),\n",
    "            'loss': train_loss_list[-1],\n",
    "            }, 'saved_models/model-rytextbook-2.pt')\n",
    "    #torch.save(network.state_dict(), '/content/drive/MyDrive/QAI4EO/model-bell.pt')"
   ]
  },
  {
   "cell_type": "code",
   "execution_count": 32,
   "metadata": {
    "id": "tyaee9pf1fxF"
   },
   "outputs": [
    {
     "data": {
      "image/png": "[encoded data removed]",
      "text/plain": [
       "<Figure size 432x288 with 1 Axes>"
      ]
     },
     "metadata": {
      "needs_background": "light"
     },
     "output_type": "display_data"
    }
   ],
   "source": [
    "plt.plot(train_loss_list)\n",
    "plt.plot(val_loss_list)\n",
    "plt.title('Hybrid NN Training Convergence for {}-qubit'.format(NUM_QUBITS))\n",
    "plt.xlabel('Training Iterations')\n",
    "plt.ylabel('Cross Entropy Loss')\n",
    "plt.legend(['Training', 'Validation'])\n",
    "plt.show()"
   ]
  },
  {
   "cell_type": "code",
   "execution_count": 33,
   "metadata": {
    "id": "1eRGMZkV1gPE"
   },
   "outputs": [
    {
     "ename": "ValueError",
     "evalue": "`ydata` must not be empty!",
     "output_type": "error",
     "traceback": [
      "\u001b[0;31m---------------------------------------------------------------------------\u001b[0m",
      "\u001b[0;31mValueError\u001b[0m                                Traceback (most recent call last)",
      "\u001b[1;32m/workspaces/QNN4EO/JSTARS2021/quantum_classifiers/eurosat_classification/QCNN-RyCircuitQiskittextbook.ipynb Zelle 21\u001b[0m in \u001b[0;36m<cell line: 12>\u001b[0;34m()\u001b[0m\n\u001b[1;32m      <a href='vscode-notebook-cell://codespaces%2Bklezm-quantum-computing-goethe-qnn4eo-4wgvwg9w25q4x/workspaces/QNN4EO/JSTARS2021/quantum_classifiers/eurosat_classification/QCNN-RyCircuitQiskittextbook.ipynb#X30sdnNjb2RlLXJlbW90ZQ%3D%3D?line=8'>9</a>\u001b[0m y \u001b[39m=\u001b[39m func(x, \u001b[39m2.5\u001b[39m, \u001b[39m1.3\u001b[39m, \u001b[39m0.5\u001b[39m)\n\u001b[1;32m     <a href='vscode-notebook-cell://codespaces%2Bklezm-quantum-computing-goethe-qnn4eo-4wgvwg9w25q4x/workspaces/QNN4EO/JSTARS2021/quantum_classifiers/eurosat_classification/QCNN-RyCircuitQiskittextbook.ipynb#X30sdnNjb2RlLXJlbW90ZQ%3D%3D?line=9'>10</a>\u001b[0m yn \u001b[39m=\u001b[39m np\u001b[39m.\u001b[39marray(val_loss_list)\n\u001b[0;32m---> <a href='vscode-notebook-cell://codespaces%2Bklezm-quantum-computing-goethe-qnn4eo-4wgvwg9w25q4x/workspaces/QNN4EO/JSTARS2021/quantum_classifiers/eurosat_classification/QCNN-RyCircuitQiskittextbook.ipynb#X30sdnNjb2RlLXJlbW90ZQ%3D%3D?line=11'>12</a>\u001b[0m popt, pcov \u001b[39m=\u001b[39m curve_fit(func, x, yn)\n\u001b[1;32m     <a href='vscode-notebook-cell://codespaces%2Bklezm-quantum-computing-goethe-qnn4eo-4wgvwg9w25q4x/workspaces/QNN4EO/JSTARS2021/quantum_classifiers/eurosat_classification/QCNN-RyCircuitQiskittextbook.ipynb#X30sdnNjb2RlLXJlbW90ZQ%3D%3D?line=13'>14</a>\u001b[0m plt\u001b[39m.\u001b[39mfigure()\n\u001b[1;32m     <a href='vscode-notebook-cell://codespaces%2Bklezm-quantum-computing-goethe-qnn4eo-4wgvwg9w25q4x/workspaces/QNN4EO/JSTARS2021/quantum_classifiers/eurosat_classification/QCNN-RyCircuitQiskittextbook.ipynb#X30sdnNjb2RlLXJlbW90ZQ%3D%3D?line=14'>15</a>\u001b[0m x1 \u001b[39m=\u001b[39m np\u001b[39m.\u001b[39mlinspace(\u001b[39m0\u001b[39m,\u001b[39m100\u001b[39m\u001b[39m+\u001b[39m\u001b[39mlen\u001b[39m(train_loss_list),\u001b[39m100\u001b[39m\u001b[39m+\u001b[39m\u001b[39mlen\u001b[39m(train_loss_list))\n",
      "File \u001b[0;32m/usr/local/lib/python3.10/site-packages/scipy/optimize/_minpack_py.py:795\u001b[0m, in \u001b[0;36mcurve_fit\u001b[0;34m(f, xdata, ydata, p0, sigma, absolute_sigma, check_finite, bounds, method, jac, full_output, **kwargs)\u001b[0m\n\u001b[1;32m    792\u001b[0m         xdata \u001b[39m=\u001b[39m np\u001b[39m.\u001b[39masarray(xdata, \u001b[39mfloat\u001b[39m)\n\u001b[1;32m    794\u001b[0m \u001b[39mif\u001b[39;00m ydata\u001b[39m.\u001b[39msize \u001b[39m==\u001b[39m \u001b[39m0\u001b[39m:\n\u001b[0;32m--> 795\u001b[0m     \u001b[39mraise\u001b[39;00m \u001b[39mValueError\u001b[39;00m(\u001b[39m\"\u001b[39m\u001b[39m`ydata` must not be empty!\u001b[39m\u001b[39m\"\u001b[39m)\n\u001b[1;32m    797\u001b[0m \u001b[39m# Determine type of sigma\u001b[39;00m\n\u001b[1;32m    798\u001b[0m \u001b[39mif\u001b[39;00m sigma \u001b[39mis\u001b[39;00m \u001b[39mnot\u001b[39;00m \u001b[39mNone\u001b[39;00m:\n",
      "\u001b[0;31mValueError\u001b[0m: `ydata` must not be empty!"
     ]
    }
   ],
   "source": [
    "import numpy as np\n",
    "import matplotlib.pyplot as plt\n",
    "from scipy.optimize import curve_fit\n",
    "\n",
    "def func(x, a, b, c):\n",
    "  return a * np.exp(-b * x) + c\n",
    "\n",
    "x = np.linspace(0,len(train_loss_list),len(train_loss_list))\n",
    "y = func(x, 2.5, 1.3, 0.5)\n",
    "yn = np.array(val_loss_list)\n",
    "\n",
    "popt, pcov = curve_fit(func, x, yn)\n",
    "\n",
    "plt.figure()\n",
    "x1 = np.linspace(0,100+len(train_loss_list),100+len(train_loss_list))\n",
    "plt.plot(x, yn, 'ko', label=\"Loss\")\n",
    "plt.plot(x1, func(x1, *popt), 'r-', label=\"Fitted Curve\")\n",
    "plt.legend()\n",
    "plt.show()"
   ]
  },
  {
   "cell_type": "code",
   "execution_count": null,
   "metadata": {
    "id": "owQ_-Zo51i0u"
   },
   "outputs": [],
   "source": [
    "test_loader = iter(handler.qcnn_data_loader(val_images, val_labels, batch_size = 1, img_shape = (64,64,3)))\n",
    "accuracy = 0\n",
    "number = 0\n",
    "\n",
    "predictions = []\n",
    "targets = []\n",
    "\n",
    "for ct in range(len(val_images)):\n",
    "\n",
    "  data, target = next(test_loader)\n",
    "  number +=1\n",
    "  output = network.predict(data).item()\n",
    "  \n",
    "  predictions.append(output)\n",
    "  targets.append(target.item())\n",
    "  \n",
    "  accuracy += (output == target[0].item())*1\n",
    "  print('\\r ' + str(ct), end='')"
   ]
  },
  {
   "cell_type": "code",
   "execution_count": null,
   "metadata": {
    "id": "GZSoIb5bAveU"
   },
   "outputs": [],
   "source": [
    "plt.hist(targets, bins = 10)"
   ]
  },
  {
   "cell_type": "code",
   "execution_count": null,
   "metadata": {
    "id": "N6ohu74x1lAN"
   },
   "outputs": [],
   "source": [
    "print(\"Performance on test data is : {}/{} = {}%\".format(accuracy,number,100*accuracy/number))"
   ]
  },
  {
   "cell_type": "code",
   "execution_count": null,
   "metadata": {
    "id": "N-m3Vutb1laV"
   },
   "outputs": [],
   "source": [
    "from sklearn.metrics import confusion_matrix, ConfusionMatrixDisplay, classification_report\n",
    "cm = confusion_matrix(targets, predictions,normalize='true')"
   ]
  },
  {
   "cell_type": "code",
   "execution_count": null,
   "metadata": {
    "id": "3I16RB4l1mzk"
   },
   "outputs": [],
   "source": [
    "fig, axes = plt.subplots(nrows = 1, ncols = 1, figsize = (12,10))\n",
    "\n",
    "cmd = ConfusionMatrixDisplay(cm, display_labels=classes)\n",
    "cmd.plot(ax=axes, cmap='Blues', xticks_rotation='vertical')\n",
    "print('S2')\n",
    "print('Accuracy:', cm.diagonal(), 'mean: ', cm.diagonal().mean())\n",
    "print(classification_report(targets, predictions, target_names=classes, digits=4))\n",
    "axes.get_images()[0].set_clim(0, 1)\n",
    "plt.show()\n",
    "plt.close()"
   ]
  },
  {
   "cell_type": "code",
   "execution_count": null,
   "metadata": {
    "id": "mBJoclTMRqf2"
   },
   "outputs": [],
   "source": []
  }
 ],
 "metadata": {
  "colab": {
   "collapsed_sections": [],
   "name": "QCNN-RyCircuitQiskittextbook.ipynb",
   "provenance": []
  },
  "kernelspec": {
   "display_name": "Python 3.10.4 64-bit",
   "language": "python",
   "name": "python3"
  },
  "language_info": {
   "codemirror_mode": {
    "name": "ipython",
    "version": 3
   },
   "file_extension": ".py",
   "mimetype": "text/x-python",
   "name": "python",
   "nbconvert_exporter": "python",
   "pygments_lexer": "ipython3",
   "version": "3.10.4"
  },
  "vscode": {
   "interpreter": {
    "hash": "949777d72b0d2535278d3dc13498b2535136f6dfe0678499012e853ee9abcab1"
   }
  }
 },
 "nbformat": 4,
 "nbformat_minor": 1
}
